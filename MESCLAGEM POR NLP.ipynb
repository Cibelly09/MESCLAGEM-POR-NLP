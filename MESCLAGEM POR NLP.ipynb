{
 "cells": [
  {
   "cell_type": "code",
   "execution_count": 1,
   "id": "dbcb3de7-85db-44b7-886c-ce8c4a439c3d",
   "metadata": {},
   "outputs": [],
   "source": [
    "import os\n",
    "import pandas as pd\n",
    "from thefuzz import fuzz, process\n",
    "from sklearn.feature_extraction.text import TfidfVectorizer\n",
    "from sklearn.neighbors import NearestNeighbors"
   ]
  },
  {
   "cell_type": "code",
   "execution_count": 3,
   "id": "4dbe6c8d-8f6a-45b5-8a17-281c37d9703c",
   "metadata": {},
   "outputs": [],
   "source": [
    "diretorio = r'C:/Users/cibelly.souza/Desktop/ANÁLISES PRICING/ESTUDOS/PROMO'\n",
    "os.makedirs(diretorio, exist_ok=True)"
   ]
  },
  {
   "cell_type": "code",
   "execution_count": 5,
   "id": "c648fae2-0ad7-47a4-a8d9-750f6774f949",
   "metadata": {},
   "outputs": [],
   "source": [
    "#Diretório da base infomarket\n",
    "diretorio = r'C:/Users/cibelly.souza/Desktop/ANÁLISES PRICING/ESTUDOS/PROMO'\n",
    "arquivo = os.path.join(diretorio, 'base_infomarket_2025_05_12.csv')"
   ]
  },
  {
   "cell_type": "code",
   "execution_count": 7,
   "id": "45d8d615-60d5-477f-b2a0-41d8c345caad",
   "metadata": {},
   "outputs": [
    {
     "name": "stdout",
     "output_type": "stream",
     "text": [
      "['.ipynb_checkpoints', 'Acordos_Comerciais-16036-13-05-2025-10_18.csv', 'base_infomarket_2025_05_12.csv', 'Cadastro.csv', 'tabela_unificada.csv', 'Tentativa de limpeza e mesclagem de tabelas .ipynb']\n"
     ]
    }
   ],
   "source": [
    "print(os.listdir(diretorio))"
   ]
  },
  {
   "cell_type": "code",
   "execution_count": 9,
   "id": "2ab1104f-61f2-4c22-a26c-a3f5b3663426",
   "metadata": {},
   "outputs": [],
   "source": [
    "# Carregar as tabelas\n",
    "tabela1 = pd.read_csv(arquivo, sep=None, engine='python', encoding='latin1')"
   ]
  },
  {
   "cell_type": "code",
   "execution_count": 10,
   "id": "95bb7e06-9016-4320-a84c-3a4c2b100c14",
   "metadata": {},
   "outputs": [],
   "source": [
    "tabela2 = pd.read_csv(os.path.join(diretorio,'Acordos_Comerciais-16036-13-05-2025-10_18.csv'), delimiter=';', encoding='latin1')"
   ]
  },
  {
   "cell_type": "code",
   "execution_count": 13,
   "id": "1d9db42f-bcbe-48b0-8839-46b2ceb33c15",
   "metadata": {},
   "outputs": [],
   "source": [
    "tabela3 = pd.read_csv(os.path.join(diretorio,'Cadastro.csv'), delimiter=';', encoding='latin1')"
   ]
  },
  {
   "cell_type": "code",
   "execution_count": 14,
   "id": "5ccaf9e0-c016-4b80-966d-e0ee5b08fd16",
   "metadata": {},
   "outputs": [
    {
     "name": "stdout",
     "output_type": "stream",
     "text": [
      "                 leaflet_id            network           segment  \\\n",
      "0  6814c03fbe2e92604a52f154  BRASIL ATACADISTA  VAREJO ALIMENTAR   \n",
      "1  6814c03fbe2e92604a52f154  BRASIL ATACADISTA  VAREJO ALIMENTAR   \n",
      "2  6814c03fbe2e92604a52f154  BRASIL ATACADISTA  VAREJO ALIMENTAR   \n",
      "3  6814c03fbe2e92604a52f154  BRASIL ATACADISTA  VAREJO ALIMENTAR   \n",
      "4  6814c03fbe2e92604a52f154  BRASIL ATACADISTA  VAREJO ALIMENTAR   \n",
      "\n",
      "            state            city leaflet_code  leaflet_name leaflet_type  \\\n",
      "0  Santa Catarina        Blumenau       52f154  ADEGA BRASIL  ABASTECEDOR   \n",
      "1  Santa Catarina  FlorianÃ³polis       52f154  ADEGA BRASIL  ABASTECEDOR   \n",
      "2  Santa Catarina  FlorianÃ³polis       52f154  ADEGA BRASIL  ABASTECEDOR   \n",
      "3  Santa Catarina  FlorianÃ³polis       52f154  ADEGA BRASIL  ABASTECEDOR   \n",
      "4  Santa Catarina  FlorianÃ³polis       52f154  ADEGA BRASIL  ABASTECEDOR   \n",
      "\n",
      "   leaflet_number_of_pages leaflet_last_images_upload  ... item_unit_measure  \\\n",
      "0                        1   2025-05-02T12:55:58.009Z  ...                ML   \n",
      "1                        1   2025-05-02T12:55:58.009Z  ...                ML   \n",
      "2                        1   2025-05-02T12:55:58.009Z  ...                ML   \n",
      "3                        1   2025-05-02T12:55:58.009Z  ...                ML   \n",
      "4                        1   2025-05-02T12:55:58.009Z  ...                ML   \n",
      "\n",
      "    category        supercategory division   brand     manufacturer  \\\n",
      "0  ESPUMANTE  BEBIDAS ALCOÃLICAS  BEBIDAS  SALTON  VINICOLA SALTON   \n",
      "1  ESPUMANTE  BEBIDAS ALCOÃLICAS  BEBIDAS  SALTON  VINICOLA SALTON   \n",
      "2  ESPUMANTE  BEBIDAS ALCOÃLICAS  BEBIDAS  SALTON  VINICOLA SALTON   \n",
      "3  ESPUMANTE  BEBIDAS ALCOÃLICAS  BEBIDAS  SALTON  VINICOLA SALTON   \n",
      "4  ESPUMANTE  BEBIDAS ALCOÃLICAS  BEBIDAS  SALTON  VINICOLA SALTON   \n",
      "\n",
      "                category_id          supercategory_id  \\\n",
      "0  5693ffd97042985498d90de4  56901e0da6675594d7af3882   \n",
      "1  5693ffd97042985498d90de4  56901e0da6675594d7af3882   \n",
      "2  5693ffd97042985498d90de4  56901e0da6675594d7af3882   \n",
      "3  5693ffd97042985498d90de4  56901e0da6675594d7af3882   \n",
      "4  5693ffd97042985498d90de4  56901e0da6675594d7af3882   \n",
      "\n",
      "                                          images_url channel_name  \n",
      "0  https://app.infomarketpesquisa.com/app/leaflet...    Atacarejo  \n",
      "1  https://app.infomarketpesquisa.com/app/leaflet...    Atacarejo  \n",
      "2  https://app.infomarketpesquisa.com/app/leaflet...    Atacarejo  \n",
      "3  https://app.infomarketpesquisa.com/app/leaflet...    Atacarejo  \n",
      "4  https://app.infomarketpesquisa.com/app/leaflet...    Atacarejo  \n",
      "\n",
      "[5 rows x 36 columns]\n"
     ]
    }
   ],
   "source": [
    "#Verificando a estrutura das tabelas\n",
    "print(tabela1.head())"
   ]
  },
  {
   "cell_type": "code",
   "execution_count": 17,
   "id": "fcd64d0e-09d6-4cf3-b6f7-177c49b46bc0",
   "metadata": {},
   "outputs": [
    {
     "name": "stdout",
     "output_type": "stream",
     "text": [
      "   SEQCAMPANHA                                           CAMPANHA     MIDIA  \\\n",
      "0        16036  ENCARTE LOKÃO KOMPRÃO 03/05 E 04/05 (TEMA: L...  Encartes   \n",
      "1        16036  ENCARTE LOKÃO KOMPRÃO 03/05 E 04/05 (TEMA: L...  Encartes   \n",
      "2        16036  ENCARTE LOKÃO KOMPRÃO 03/05 E 04/05 (TEMA: L...  Encartes   \n",
      "3        16036  ENCARTE LOKÃO KOMPRÃO 03/05 E 04/05 (TEMA: L...  Encartes   \n",
      "4        16036  ENCARTE LOKÃO KOMPRÃO 03/05 E 04/05 (TEMA: L...  Encartes   \n",
      "\n",
      "       INICIO         FIM  SEQLOJA  SEQOFERTA TIPO_OFERTA  SEQPRODUTO  \\\n",
      "0  2025-05-03  2025-05-04       10     540899      Normal        9218   \n",
      "1  2025-05-03  2025-05-04       10     540900      Normal       11227   \n",
      "2  2025-05-03  2025-05-04       10     540901      Normal       40601   \n",
      "3  2025-05-03  2025-05-04       10     540902   Club Koch       63195   \n",
      "4  2025-05-03  2025-05-04       10     540903      Normal       21836   \n",
      "\n",
      "                                  DESCRICAO  ...  NEGOCIACAO_ESPACO  \\\n",
      "0                 CONTRA FILE BOV ATC VC KG  ...                NaN   \n",
      "1                          COXA SOBR FGO KG  ...                NaN   \n",
      "2   LAVA ROUPA OMO ATIV SC 2.4KG LAVAG PERF  ...                NaN   \n",
      "3  PAPEL HIG BIANCO FD 30M C/40 L+P- NEUTRO  ...                NaN   \n",
      "4             CERV HEINEKEN PILSEN LN 330ML  ...                NaN   \n",
      "\n",
      "   TIPO_CASHBACK  CASHBACK_R$  DESCONTO DE %  QTD. PAGUE  QTD. LEVE  \\\n",
      "0            NaN          NaN            NaN         NaN        NaN   \n",
      "1            NaN          NaN            NaN         NaN        NaN   \n",
      "2            NaN          NaN            NaN         NaN        NaN   \n",
      "3            NaN          NaN            NaN         NaN        NaN   \n",
      "4            NaN          NaN            NaN         NaN        NaN   \n",
      "\n",
      "   COMPRA DE  DESCONTO EM UNIDADES  PRECO_REGULAR    PÃGINA  \n",
      "0        NaN                   NaN          48.49  PÃ¡gina 1  \n",
      "1        NaN                   NaN           8.79  PÃ¡gina 1  \n",
      "2        NaN                   NaN          31.99  PÃ¡gina 1  \n",
      "3        NaN                   NaN          49.90  PÃ¡gina 1  \n",
      "4        NaN                   NaN           6.49  PÃ¡gina 1  \n",
      "\n",
      "[5 rows x 25 columns]\n"
     ]
    }
   ],
   "source": [
    "print(tabela2.head())"
   ]
  },
  {
   "cell_type": "code",
   "execution_count": 19,
   "id": "466a0377-00ce-4a5f-83f0-480b80e17ada",
   "metadata": {},
   "outputs": [
    {
     "name": "stdout",
     "output_type": "stream",
     "text": [
      "   ï»¿EMPRESA  COD_PRODUTO    cidade      negocio COD_BARRAS  COD_FAMILIA  \\\n",
      "0          50        77957  Araquari  2.ATACAREJO        102        75788   \n",
      "1          50        17058  Araquari  2.ATACAREJO        130        12243   \n",
      "2          50         8313  Araquari  2.ATACAREJO        260         5962   \n",
      "3          50        11856  Araquari  2.ATACAREJO        277         8521   \n",
      "4          50        22463  Araquari  2.ATACAREJO        437        16058   \n",
      "\n",
      "                    DSC_PRODUTO      NIVEL1        NIVEL2              NIVEL3  \\\n",
      "0  FAR MILHO DALON MEDIA PC 1KG   MERCEARIA  SECA SALGADA  GRAOS E FARINACEOS   \n",
      "1                     SALSAO UN  PERECIVEIS    HORTIFRUTI            VERDURAS   \n",
      "2            ABOBORA CABOTIA KG  PERECIVEIS    HORTIFRUTI             LEGUMES   \n",
      "3               GALINHA CONG KG  PERECIVEIS       ACOUGUE                 AVE   \n",
      "4      RICOTA LASAROLI S/SAL KG  PERECIVEIS           PAS           RESFRIADO   \n",
      "\n",
      "                   NIVEL4         NIVEL5   NIVEL6       NIVEL7  \n",
      "0              FARINACEOS  FARINHA MILHO     FINA         FINA  \n",
      "1        TEMPEROS FRESCOS         SALSAO   SALSAO      UNIDADE  \n",
      "2                   COMUM        ABOBORA  CABOTIA           KG  \n",
      "3  AUTO SERVICO CONGELADO    TRADICIONAL  INTEIRO      INTEIRO  \n",
      "4                  QUEIJO    TRADICIONAL   RICOTA  TRADICIONAL  \n"
     ]
    }
   ],
   "source": [
    "print(tabela3.head())"
   ]
  },
  {
   "cell_type": "code",
   "execution_count": 21,
   "id": "bfed775b-a3ac-46f5-9c42-dc1bcc68e2a0",
   "metadata": {},
   "outputs": [
    {
     "name": "stdout",
     "output_type": "stream",
     "text": [
      "36 25 14\n"
     ]
    }
   ],
   "source": [
    "print(tabela1.shape[1],tabela2.shape[1],tabela3.shape[1])"
   ]
  },
  {
   "cell_type": "code",
   "execution_count": 23,
   "id": "78ef6555-56e2-462a-ab19-c34f19080563",
   "metadata": {},
   "outputs": [
    {
     "name": "stdout",
     "output_type": "stream",
     "text": [
      "Index(['leaflet_id', 'network', 'segment', 'state', 'city', 'leaflet_code',\n",
      "       'leaflet_name', 'leaflet_type', 'leaflet_number_of_pages',\n",
      "       'leaflet_last_images_upload', 'leaflet_created', 'leaflet_updated',\n",
      "       'validity_start_date', 'validity_finish_date', 'period',\n",
      "       'item_description', 'ean', 'price', 'minimum_quantity', 'dynamic',\n",
      "       'requires_loyality', 'requires_credit_card', 'wholesale_only',\n",
      "       'price_created', 'price_updated', 'item_measure', 'item_unit_measure',\n",
      "       'category', 'supercategory', 'division', 'brand', 'manufacturer',\n",
      "       'category_id', 'supercategory_id', 'images_url', 'channel_name'],\n",
      "      dtype='object')\n"
     ]
    }
   ],
   "source": [
    "print(tabela1.columns)"
   ]
  },
  {
   "cell_type": "code",
   "execution_count": 25,
   "id": "f233697b-0afc-4f87-8710-407daebb726b",
   "metadata": {},
   "outputs": [],
   "source": [
    "#Reduzindo base Infomarket para apenas o necessário (selecionando apenas as colunas nessa posição)\n",
    "tabela1 = tabela1[['network','city','leaflet_name','leaflet_type','leaflet_number_of_pages','validity_start_date', 'validity_finish_date', 'period',\n",
    "                                'item_description', 'ean', 'price', 'minimum_quantity', 'dynamic','item_measure', 'item_unit_measure','category',\n",
    "                                'supercategory', 'division', 'brand', 'manufacturer','images_url', 'channel_name']].copy()"
   ]
  },
  {
   "cell_type": "code",
   "execution_count": 27,
   "id": "3c6ae84b-3ec7-4f3a-a023-798fda687ace",
   "metadata": {},
   "outputs": [],
   "source": [
    "tabela1.rename(columns = {'network':'CONCORRENTE','city':'CIDADE', 'leaflet_name':'ENCARTE', 'leaflet_type':'TIPO','leaflet_number_of_pages':'PAGINA',\n",
    "                       'validity_start_date':'INICIO','validity_finish_date':'FIM', 'period':'PERIODO', 'item_description':'DESCRICAO',\n",
    "                       'ean':'COD_BARRAS','price':'PRECO','minimum_quantity':'QTD_MINIMA', 'dynamic':'DINAMICA', 'item_measure':'TAMANHO',\n",
    "                       'item_unit_measure':'UNIDADE','category':'CATEGORIA', 'supercategory':'SUPERCATEGORIA', 'division':'DIVISAO',\n",
    "                       'brand':'MARCA', 'manufacturer':'FORNECEDOR','images_url':'URL', 'channel_name':'SEGMENTO'}, inplace=True)"
   ]
  },
  {
   "cell_type": "code",
   "execution_count": 29,
   "id": "dd702acd-1ca5-4c39-a2be-65a8ef8bcf1c",
   "metadata": {},
   "outputs": [
    {
     "name": "stdout",
     "output_type": "stream",
     "text": [
      "Index(['CONCORRENTE', 'CIDADE', 'ENCARTE', 'TIPO', 'PAGINA', 'INICIO', 'FIM',\n",
      "       'PERIODO', 'DESCRICAO', 'COD_BARRAS', 'PRECO', 'QTD_MINIMA', 'DINAMICA',\n",
      "       'TAMANHO', 'UNIDADE', 'CATEGORIA', 'SUPERCATEGORIA', 'DIVISAO', 'MARCA',\n",
      "       'FORNECEDOR', 'URL', 'SEGMENTO'],\n",
      "      dtype='object')\n"
     ]
    }
   ],
   "source": [
    "print(tabela1.columns)"
   ]
  },
  {
   "cell_type": "code",
   "execution_count": 31,
   "id": "2c2f938a-1c4b-47a4-947e-4332b1af165d",
   "metadata": {},
   "outputs": [
    {
     "name": "stdout",
     "output_type": "stream",
     "text": [
      "Index(['SEQCAMPANHA', 'CAMPANHA', 'MIDIA', 'INICIO', 'FIM', 'SEQLOJA',\n",
      "       'SEQOFERTA', 'TIPO_OFERTA', 'SEQPRODUTO', 'DESCRICAO', 'PRECO_VAREJO',\n",
      "       'PRECO_ATACADO', 'QUANTIDADE_MINIMA', 'PRECO_FIDELIDADE',\n",
      "       'SEQFORNECEDOR', 'NEGOCIACAO_ESPACO', 'TIPO_CASHBACK', 'CASHBACK_R$',\n",
      "       'DESCONTO DE %', 'QTD. PAGUE', 'QTD. LEVE', 'COMPRA DE',\n",
      "       'DESCONTO EM UNIDADES', 'PRECO_REGULAR', 'PÃGINA'],\n",
      "      dtype='object')\n"
     ]
    }
   ],
   "source": [
    "print(tabela2.columns)"
   ]
  },
  {
   "cell_type": "code",
   "execution_count": 33,
   "id": "b953b8b9-331c-496f-af41-8e96668807c0",
   "metadata": {},
   "outputs": [],
   "source": [
    "#Reduzindo base Smarket para apenas o necessário (selecionando apenas as colunas nessa posição)\n",
    "tabela2 = tabela2[['SEQCAMPANHA','CAMPANHA','INICIO', 'FIM', 'SEQLOJA','SEQOFERTA', 'TIPO_OFERTA', 'SEQPRODUTO', 'DESCRICAO', 'PRECO_VAREJO','PRECO_ATACADO',\n",
    "                   'QUANTIDADE_MINIMA','PRECO_FIDELIDADE','TIPO_CASHBACK','CASHBACK_R$','DESCONTO DE %', 'QTD. PAGUE', 'QTD. LEVE', 'COMPRA DE',\n",
    "                   'DESCONTO EM UNIDADES','PRECO_REGULAR', 'PÃGINA']].copy()"
   ]
  },
  {
   "cell_type": "code",
   "execution_count": 35,
   "id": "a00bd506-d6b2-4a0f-8ef6-307fb48b5561",
   "metadata": {},
   "outputs": [],
   "source": [
    "tabela2.rename(columns = {'SEQPRODUTO':'COD_PRODUTO','CAMPANHA':'ENCARTE','PÃGINA':'PAGINA'}, inplace=True)"
   ]
  },
  {
   "cell_type": "code",
   "execution_count": 37,
   "id": "b467b91b-2f26-474b-9a7f-0f49f6fa148e",
   "metadata": {},
   "outputs": [
    {
     "name": "stdout",
     "output_type": "stream",
     "text": [
      "Index(['ï»¿EMPRESA', 'COD_PRODUTO', 'cidade', 'negocio', 'COD_BARRAS',\n",
      "       'COD_FAMILIA', 'DSC_PRODUTO', 'NIVEL1', 'NIVEL2', 'NIVEL3', 'NIVEL4',\n",
      "       'NIVEL5', 'NIVEL6', 'NIVEL7'],\n",
      "      dtype='object')\n"
     ]
    }
   ],
   "source": [
    "print(tabela3.columns)"
   ]
  },
  {
   "cell_type": "code",
   "execution_count": 39,
   "id": "d6c2efda-6ddd-4c05-8b5d-f92675914add",
   "metadata": {},
   "outputs": [],
   "source": [
    "tabela3.rename(columns ={'cidade':'CIDADE', 'negocio':'SEGMENTO','DSC_PRODUTO': 'DESCRICAO'}, inplace=True)"
   ]
  },
  {
   "cell_type": "code",
   "execution_count": 41,
   "id": "6ee99c42-0832-4c90-8829-e531d1080f51",
   "metadata": {},
   "outputs": [
    {
     "name": "stdout",
     "output_type": "stream",
     "text": [
      "Index(['ï»¿EMPRESA', 'COD_PRODUTO', 'CIDADE', 'SEGMENTO', 'COD_BARRAS',\n",
      "       'COD_FAMILIA', 'DESCRICAO', 'NIVEL1', 'NIVEL2', 'NIVEL3', 'NIVEL4',\n",
      "       'NIVEL5', 'NIVEL6', 'NIVEL7'],\n",
      "      dtype='object')\n"
     ]
    }
   ],
   "source": [
    "print(tabela3.columns)"
   ]
  },
  {
   "cell_type": "code",
   "execution_count": 43,
   "id": "48215462-00ff-476e-b1d6-4e02b2993d6c",
   "metadata": {},
   "outputs": [
    {
     "name": "stdout",
     "output_type": "stream",
     "text": [
      "Tabela 1 - Linhas:35275, Colunas: 22\n",
      "Tabela 2 - Linhas:19372, Colunas: 22\n",
      "Tabela 3 - Linhas:570522, Colunas: 14\n"
     ]
    }
   ],
   "source": [
    "#Verificando \n",
    "print(f\"Tabela 1 - Linhas:{tabela1.shape[0]}, Colunas: {tabela1.shape[1]}\")\n",
    "print(f\"Tabela 2 - Linhas:{tabela2.shape[0]}, Colunas: {tabela2.shape[1]}\")\n",
    "print(f\"Tabela 3 - Linhas:{tabela3.shape[0]}, Colunas: {tabela3.shape[1]}\")"
   ]
  },
  {
   "cell_type": "code",
   "execution_count": 45,
   "id": "e4984ee2-92af-4b25-bbc5-1e4be140de12",
   "metadata": {},
   "outputs": [],
   "source": [
    "#Padronizando as descrições\n",
    "tabela1['DSC_NORM'] = tabela1['DESCRICAO'].str.lower()\n",
    "tabela2['DSC_NORM'] = tabela2['DESCRICAO'].str.lower()\n",
    "tabela3['DSC_NORM'] = tabela3['DESCRICAO'].str.lower()"
   ]
  },
  {
   "cell_type": "code",
   "execution_count": 85,
   "id": "8c731116-cc3b-4521-aae7-f88e6aa9cbda",
   "metadata": {},
   "outputs": [],
   "source": [
    "#Concatenando todas as descrições pq o TF-IDF só pode ser treinado 1 vez (msm q as bases sejam mt grandes) deixa 1 só e divide depois\n",
    "descricoes = pd.concat([\n",
    "    tabela1['DSC_NORM'],\n",
    "    tabela2['DSC_NORM'],\n",
    "    tabela3['DSC_NORM']\n",
    "], ignore_index=True)"
   ]
  },
  {
   "cell_type": "code",
   "execution_count": 87,
   "id": "f0a19bf4-b570-4ce3-bc98-227f182d5e79",
   "metadata": {},
   "outputs": [],
   "source": [
    "#aplicando o TF - IDF (TF- IDF transforma as descrições em vetores numéricos)\n",
    "vectorizer = TfidfVectorizer()\n",
    "tfidf_matrix = vectorizer.fit_transform(descricoes)"
   ]
  },
  {
   "cell_type": "code",
   "execution_count": 89,
   "id": "5a7526fd-237d-4dfe-8b8b-bd67394e8cf5",
   "metadata": {},
   "outputs": [],
   "source": [
    "#Garantindo q o TF - IDF tenha o msm número de feature para cada tabela\n",
    "tfidf_tabela1 = vectorizer.transform(tabela1['DSC_NORM'])\n",
    "tfidf_tabela2 = vectorizer.transform(tabela2['DSC_NORM'])\n",
    "tfidf_tabela3 = vectorizer.transform(tabela3['DSC_NORM'])"
   ]
  },
  {
   "cell_type": "code",
   "execution_count": 91,
   "id": "296bd1ec-2b35-4cae-a094-a627dfb15563",
   "metadata": {},
   "outputs": [],
   "source": [
    "#calculando a similaridade do cosseno com nearest neighbors para cada uma das tabelas\n",
    "nn_model2 = NearestNeighbors(n_neighbors=1, metric= 'cosine').fit(tfidf_tabela2)\n",
    "nn_model3 = NearestNeighbors(n_neighbors=1, metric= 'cosine').fit(tfidf_tabela3)\n",
    "#n_neighbors=1 significa que vai buscar o item mais parecido para cada descrição\n",
    "#metric='cosine' usa a similaridade de cosseno uma métrica eficiente para comparar textos"
   ]
  },
  {
   "cell_type": "code",
   "execution_count": 95,
   "id": "acced2a8-f891-4ffa-bfa2-3fc7b7a4e374",
   "metadata": {},
   "outputs": [],
   "source": [
    "#Encontrando as descrições mais semelhantes para cada item da tabela 1 \n",
    "_, indices2 = nn_model2.kneighbors(tfidf_tabela1)\n",
    "_, indices3 = nn_model3.kneighbors(tfidf_tabela1)\n",
    "#aqui calculamos os itens mais parecidos apenas para a tabela 1"
   ]
  },
  {
   "cell_type": "code",
   "execution_count": 97,
   "id": "31363a84-cc46-4d3f-99c4-857672b9779e",
   "metadata": {},
   "outputs": [],
   "source": [
    "#Relacionando com as outras tabelas\n",
    "tabela1['relacionamento_tabela2'] = indices2.flatten()\n",
    "tabela1['relacionamento_tabela3'] = indices3.flatten()\n",
    "#aqui significa que cada item da tabela 1 tem o indice do item mais parecido entre todas as descrições (incluindo tab.2 e 3)"
   ]
  },
  {
   "cell_type": "code",
   "execution_count": 99,
   "id": "f9302a51-4554-472f-a0f0-e4672d86fd5c",
   "metadata": {},
   "outputs": [
    {
     "name": "stdout",
     "output_type": "stream",
     "text": [
      "                                 DSC_NORM  relacionamento_tabela2  \\\n",
      "0             espumante salton brut 750ml                     255   \n",
      "1             espumante salton brut 750ml                     255   \n",
      "2             espumante salton brut 750ml                     255   \n",
      "3             espumante salton brut 750ml                     255   \n",
      "4             espumante salton brut 750ml                     255   \n",
      "...                                   ...                     ...   \n",
      "35270  lip tint balm dailus fps 8 com 4ml                       0   \n",
      "35271  lip tint balm dailus fps 8 com 4ml                       0   \n",
      "35272  lip tint balm dailus fps 8 com 4ml                       0   \n",
      "35273  lip tint balm dailus fps 8 com 4ml                       0   \n",
      "35274  lip tint balm dailus fps 8 com 4ml                       0   \n",
      "\n",
      "       relacionamento_tabela3  \n",
      "0                        5452  \n",
      "1                        5452  \n",
      "2                        5452  \n",
      "3                        5452  \n",
      "4                        5452  \n",
      "...                       ...  \n",
      "35270                    6673  \n",
      "35271                    6673  \n",
      "35272                    6673  \n",
      "35273                    6673  \n",
      "35274                    6673  \n",
      "\n",
      "[35275 rows x 3 columns]\n"
     ]
    }
   ],
   "source": [
    "#Exibir o resultado\n",
    "print(tabela1[['DSC_NORM','relacionamento_tabela2','relacionamento_tabela3']])"
   ]
  },
  {
   "cell_type": "code",
   "execution_count": 101,
   "id": "b71391a4-3e66-4121-8430-81db8b9ec874",
   "metadata": {},
   "outputs": [],
   "source": [
    "# Exportar o resultado para um arquivo Excel\n",
    "tabela1.to_excel('tabela1_relacionada.xlsx', index=False)\n"
   ]
  }
 ],
 "metadata": {
  "kernelspec": {
   "display_name": "Python 3 (ipykernel)",
   "language": "python",
   "name": "python3"
  },
  "language_info": {
   "codemirror_mode": {
    "name": "ipython",
    "version": 3
   },
   "file_extension": ".py",
   "mimetype": "text/x-python",
   "name": "python",
   "nbconvert_exporter": "python",
   "pygments_lexer": "ipython3",
   "version": "3.12.4"
  }
 },
 "nbformat": 4,
 "nbformat_minor": 5
}
